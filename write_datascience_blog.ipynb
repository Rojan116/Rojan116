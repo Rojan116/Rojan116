{
 "cells": [
  {
   "cell_type": "code",
   "execution_count": 1,
   "metadata": {},
   "outputs": [],
   "source": [
    "import pandas as pd \n",
    "import numpy as np \n",
    "import matplotlib\n",
    "import matplotlib.pyplot as plt \n",
    "import seaborn as sns "
   ]
  },
  {
   "cell_type": "code",
   "execution_count": 2,
   "metadata": {},
   "outputs": [],
   "source": [
    "df_2019= pd.read_csv('./data/survey_results_public.csv',encoding='latin1')"
   ]
  },
  {
   "cell_type": "code",
   "execution_count": 3,
   "metadata": {},
   "outputs": [
    {
     "data": {
      "text/plain": [
       "0                          HTML/CSS;Java;JavaScript;Python\n",
       "1                                      C++;HTML/CSS;Python\n",
       "2                                                 HTML/CSS\n",
       "3                                      C;C++;C#;Python;SQL\n",
       "4              C++;HTML/CSS;Java;JavaScript;Python;SQL;VBA\n",
       "                               ...                        \n",
       "88878                        HTML/CSS;JavaScript;Other(s):\n",
       "88879                                                  NaN\n",
       "88880                                                  NaN\n",
       "88881                                                  NaN\n",
       "88882    Bash/Shell/PowerShell;HTML/CSS;Java;JavaScript...\n",
       "Name: LanguageWorkedWith, Length: 88883, dtype: object"
      ]
     },
     "execution_count": 3,
     "metadata": {},
     "output_type": "execute_result"
    }
   ],
   "source": [
    "df_2019['LanguageWorkedWith'] "
   ]
  },
  {
   "cell_type": "code",
   "execution_count": 4,
   "metadata": {},
   "outputs": [],
   "source": [
    "#Language Worked With\n",
    "lang = pd.DataFrame(df_2019['LanguageWorkedWith'].dropna().str.split(';').tolist()).stack()\n",
    "lang_2019 =  lang.value_counts()"
   ]
  },
  {
   "cell_type": "code",
   "execution_count": 5,
   "metadata": {},
   "outputs": [
    {
     "data": {
      "text/plain": [
       "JavaScript     59219\n",
       "HTML/CSS       55466\n",
       "SQL            47544\n",
       "Python         36443\n",
       "Java           35917\n",
       "C#             27097\n",
       "PHP            23030\n",
       "C++            20524\n",
       "TypeScript     18523\n",
       "C              18017\n",
       "Ruby            7331\n",
       "Go              7201\n",
       "Assembly        5833\n",
       "Swift           5744\n",
       "Kotlin          5620\n",
       "R               5048\n",
       "VBA             4781\n",
       "Objective-C     4191\n",
       "Scala           3309\n",
       "Rust            2794\n",
       "Dart            1683\n",
       "Elixir          1260\n",
       "Clojure         1254\n",
       "WebAssembly     1015\n",
       "F#               973\n",
       "Erlang           777\n",
       "dtype: int64"
      ]
     },
     "execution_count": 5,
     "metadata": {},
     "output_type": "execute_result"
    }
   ],
   "source": [
    "lang_2019 = lang_2019.drop(labels=['Bash/Shell/PowerShell','Other(s):'])\n",
    "lang_2019"
   ]
  },
  {
   "cell_type": "code",
   "execution_count": 6,
   "metadata": {},
   "outputs": [],
   "source": [
    "framework = pd.DataFrame(df_2019['WebFrameWorkedWith'].dropna().str.split(';').tolist()).stack()\n",
    "framework_2019 =  framework.value_counts()"
   ]
  },
  {
   "cell_type": "code",
   "execution_count": 7,
   "metadata": {},
   "outputs": [
    {
     "data": {
      "text/plain": [
       "jQuery                30981\n",
       "React.js              19877\n",
       "Angular/Angular.js    19532\n",
       "ASP.NET               16699\n",
       "Express               12522\n",
       "Spring                10298\n",
       "Vue.js                 9671\n",
       "Django                 8249\n",
       "Flask                  7694\n",
       "Laravel                6679\n",
       "Other(s):              5257\n",
       "Ruby on Rails          5225\n",
       "Drupal                 2195\n",
       "dtype: int64"
      ]
     },
     "execution_count": 7,
     "metadata": {},
     "output_type": "execute_result"
    }
   ],
   "source": [
    "framework_2019"
   ]
  },
  {
   "cell_type": "code",
   "execution_count": 8,
   "metadata": {},
   "outputs": [],
   "source": [
    "#Language Worked With\n",
    "devType = pd.DataFrame(df_2019['DevType'].dropna().str.split(';').tolist()).stack()\n",
    "dev_2019 =  devType.value_counts()"
   ]
  },
  {
   "cell_type": "code",
   "execution_count": 9,
   "metadata": {},
   "outputs": [
    {
     "data": {
      "text/plain": [
       "Developer, full-stack                            42222\n",
       "Developer, back-end                              40665\n",
       "Developer, front-end                             26649\n",
       "Developer, desktop or enterprise applications    17316\n",
       "Developer, mobile                                14698\n",
       "Student                                          11921\n",
       "Database administrator                            9520\n",
       "Designer                                          9182\n",
       "System administrator                              8929\n",
       "DevOps specialist                                 8862\n",
       "Developer, embedded applications or devices       7248\n",
       "Data scientist or machine learning specialist     6460\n",
       "Developer, QA or test                             6359\n",
       "Data or business analyst                          6294\n",
       "Academic researcher                               5930\n",
       "Engineer, data                                    5819\n",
       "Educator                                          4492\n",
       "Developer, game or graphics                       4439\n",
       "Engineering manager                               4202\n",
       "Product manager                                   4032\n",
       "Scientist                                         3617\n",
       "Engineer, site reliability                        2951\n",
       "Senior executive/VP                               2107\n",
       "Marketing or sales professional                    975\n",
       "dtype: int64"
      ]
     },
     "execution_count": 9,
     "metadata": {},
     "output_type": "execute_result"
    }
   ],
   "source": [
    "dev_2019"
   ]
  },
  {
   "cell_type": "code",
   "execution_count": 10,
   "metadata": {},
   "outputs": [
    {
     "data": {
      "text/plain": [
       "0           Man\n",
       "1           Man\n",
       "2           Man\n",
       "3           Man\n",
       "4           Man\n",
       "          ...  \n",
       "88878       Man\n",
       "88879    Others\n",
       "88880    Others\n",
       "88881    Others\n",
       "88882       Man\n",
       "Name: Gender, Length: 88883, dtype: object"
      ]
     },
     "execution_count": 10,
     "metadata": {},
     "output_type": "execute_result"
    }
   ],
   "source": [
    "df_2019['Gender']=df_2019['Gender'].fillna('Others')\n",
    "df_2019.Gender"
   ]
  },
  {
   "cell_type": "code",
   "execution_count": 11,
   "metadata": {},
   "outputs": [],
   "source": [
    "df_2019.loc[(df_2019[\"Gender\"]!= 'Man') & (df_2019[\"Gender\"]!='Woman'), \"Gender\"] = 'Others'\n",
    "# survey_2017.loc[(survey_2017[\"Gender\"]!= 'Male') & (survey_2017[\"Gender\"]!='Female'), \"Gender\"]='Others'"
   ]
  },
  {
   "cell_type": "code",
   "execution_count": 12,
   "metadata": {},
   "outputs": [],
   "source": [
    "gender2019=df_2019['Gender'].value_counts()"
   ]
  },
  {
   "cell_type": "code",
   "execution_count": 13,
   "metadata": {},
   "outputs": [
    {
     "data": {
      "text/plain": [
       "Man       77919\n",
       "Woman      6344\n",
       "Others     4620\n",
       "Name: Gender, dtype: int64"
      ]
     },
     "execution_count": 13,
     "metadata": {},
     "output_type": "execute_result"
    }
   ],
   "source": [
    "gender2019"
   ]
  },
  {
   "cell_type": "code",
   "execution_count": 14,
   "metadata": {},
   "outputs": [
    {
     "data": {
      "image/png": "[encoded data removed]",
      "text/plain": [
       "<Figure size 432x288 with 1 Axes>"
      ]
     },
     "metadata": {},
     "output_type": "display_data"
    }
   ],
   "source": [
    "labels = gender2019.index\n",
    "sizes = gender2019\n",
    "fig1, ax1 = plt.subplots()\n",
    "ax1.pie(sizes, labels=labels, autopct='%1.1f%%',\n",
    "        shadow=True, startangle=90 )\n",
    "ax1.axis('equal')\n",
    "\n",
    "plt.show()"
   ]
  },
  {
   "cell_type": "code",
   "execution_count": 15,
   "metadata": {},
   "outputs": [],
   "source": [
    "def draw_bar(labels,values,title):\n",
    "    \"\"\"This methods draw bar diagram by taking following input:\n",
    "        Labels : list of labels\n",
    "        Values : count value associated with labels\n",
    "        Title : Title of the graph\n",
    "        \n",
    "    \"\"\"\n",
    "    fig = plt.figure()\n",
    "    ax = fig.add_axes([0,0,1,1])\n",
    "    labels = labels\n",
    "    values = values\n",
    "    plt.title(title)\n",
    "    ax.bar(labels,values)\n",
    "    plt.xticks(rotation=90)\n",
    "    plt.figure(figsize=(20,30))\n",
    "    plt.show()"
   ]
  },
  {
   "cell_type": "code",
   "execution_count": 16,
   "metadata": {},
   "outputs": [
    {
     "data": {
      "image/png": "[encoded data removed]",
      "text/plain": [
       "<Figure size 432x288 with 1 Axes>"
      ]
     },
     "metadata": {
      "needs_background": "light"
     },
     "output_type": "display_data"
    },
    {
     "data": {
      "text/plain": [
       "<Figure size 1440x2160 with 0 Axes>"
      ]
     },
     "metadata": {},
     "output_type": "display_data"
    }
   ],
   "source": [
    "x = dev_2019[0:10].index\n",
    "y = dev_2019[0:10]\n",
    "draw_bar(x,y,\"Top 10 Popular Developer Type 2019\")"
   ]
  },
  {
   "cell_type": "code",
   "execution_count": 17,
   "metadata": {},
   "outputs": [
    {
     "data": {
      "image/png": "[encoded data removed]",
      "text/plain": [
       "<Figure size 432x288 with 1 Axes>"
      ]
     },
     "metadata": {
      "needs_background": "light"
     },
     "output_type": "display_data"
    },
    {
     "data": {
      "text/plain": [
       "<Figure size 1440x2160 with 0 Axes>"
      ]
     },
     "metadata": {},
     "output_type": "display_data"
    }
   ],
   "source": [
    "x = lang_2019[0:10].index\n",
    "y = lang_2019[0:10]\n",
    "draw_bar(x,y,\"Top 10 Popular Programming Languages 2019\")"
   ]
  },
  {
   "cell_type": "code",
   "execution_count": 18,
   "metadata": {},
   "outputs": [
    {
     "data": {
      "image/png": "[encoded data removed]",
      "text/plain": [
       "<Figure size 432x288 with 1 Axes>"
      ]
     },
     "metadata": {
      "needs_background": "light"
     },
     "output_type": "display_data"
    },
    {
     "data": {
      "text/plain": [
       "<Figure size 1440x2160 with 0 Axes>"
      ]
     },
     "metadata": {},
     "output_type": "display_data"
    }
   ],
   "source": [
    "x = framework_2019[0:10].index\n",
    "y = framework_2019[0:10]\n",
    "draw_bar(x,y,\"Top 10 Popular web Framework 2019\")"
   ]
  },
  {
   "cell_type": "code",
   "execution_count": null,
   "metadata": {},
   "outputs": [],
   "source": []
  }
 ],
 "metadata": {
  "kernelspec": {
   "display_name": "Python 3",
   "language": "python",
   "name": "python3"
  },
  "language_info": {
   "codemirror_mode": {
    "name": "ipython",
    "version": 3
   },
   "file_extension": ".py",
   "mimetype": "text/x-python",
   "name": "python",
   "nbconvert_exporter": "python",
   "pygments_lexer": "ipython3",
   "version": "3.7.6"
  }
 },
 "nbformat": 4,
 "nbformat_minor": 4
}
